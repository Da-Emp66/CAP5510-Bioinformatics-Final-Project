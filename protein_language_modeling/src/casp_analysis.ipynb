{
 "cells": [
  {
   "cell_type": "code",
   "execution_count": 1,
   "id": "287e966a",
   "metadata": {},
   "outputs": [],
   "source": [
    "import pandas as pd\n",
    "import numpy as np"
   ]
  },
  {
   "cell_type": "code",
   "execution_count": 2,
   "id": "1b48dc34",
   "metadata": {},
   "outputs": [],
   "source": [
    "casp_structure_pred_scores = pd.read_csv(\"casp_structure_prediction_results.csv\")"
   ]
  },
  {
   "cell_type": "code",
   "execution_count": 4,
   "id": "c876bc14",
   "metadata": {},
   "outputs": [],
   "source": [
    "casp_sets = [f\"casp{i}\" for i in range(10, 15)]\n",
    "\n",
    "average_us_aligns = []\n",
    "average_plddts = []\n",
    "counts = []\n",
    "\n",
    "for casp_set in casp_sets:\n",
    "    subset = casp_structure_pred_scores.loc[casp_structure_pred_scores[\"subset\"] == casp_set]\n",
    "    average_us_aligns.append(np.average(subset[\"US-Align\"]))\n",
    "    average_plddts.append(np.average(subset[\"pLDDT\"]))\n",
    "    counts.append(len(subset))\n",
    "\n",
    "overall_average_us_align = np.average(casp_structure_pred_scores[\"US-Align\"])\n",
    "overall_average_plddt = np.average(casp_structure_pred_scores[\"pLDDT\"])\n",
    "total_count = sum(counts)\n",
    "\n",
    "test_data = pd.DataFrame({\n",
    "    \"CASP Set\": casp_sets + [\"casp10-14\"],\n",
    "    \"Avg. US-Align\": average_us_aligns + [overall_average_us_align],\n",
    "    \"Avg. pLDDT\": average_plddts + [overall_average_plddt],\n",
    "    \"Protein Count\": counts + [total_count],\n",
    "})"
   ]
  },
  {
   "cell_type": "code",
   "execution_count": 5,
   "id": "af4c1543",
   "metadata": {},
   "outputs": [
    {
     "name": "stdout",
     "output_type": "stream",
     "text": [
      "    CASP Set  Avg. US-Align  Avg. pLDDT  Protein Count\n",
      "0     casp10       0.705129    0.712292             12\n",
      "1     casp11       0.581411    0.599362             27\n",
      "2     casp12       0.631709    0.689903             15\n",
      "3     casp13       0.572984    0.589509             19\n",
      "4     casp14       0.364064    0.406136              8\n",
      "5  casp10-14       0.585611    0.611464             81\n"
     ]
    }
   ],
   "source": [
    "print(test_data)"
   ]
  }
 ],
 "metadata": {
  "kernelspec": {
   "display_name": ".venv",
   "language": "python",
   "name": "python3"
  },
  "language_info": {
   "codemirror_mode": {
    "name": "ipython",
    "version": 3
   },
   "file_extension": ".py",
   "mimetype": "text/x-python",
   "name": "python",
   "nbconvert_exporter": "python",
   "pygments_lexer": "ipython3",
   "version": "3.10.16"
  }
 },
 "nbformat": 4,
 "nbformat_minor": 5
}
