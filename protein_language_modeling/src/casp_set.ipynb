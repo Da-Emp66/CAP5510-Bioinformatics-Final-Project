{
 "cells": [
  {
   "cell_type": "code",
   "execution_count": null,
   "id": "99f36e85",
   "metadata": {},
   "outputs": [],
   "source": [
    "import numpy as np\n",
    "import pandas as pd\n",
    "\n",
    "from data import CASPTestSet\n",
    "from interfaces import ProteinPredictionTask, ProteinPredictionReturnType\n",
    "from models import ESM3Model\n",
    "from utils import ProteinComparator, ProteinComparatorMethod, ProteinAlignment"
   ]
  },
  {
   "cell_type": "code",
   "execution_count": null,
   "id": "76396220",
   "metadata": {},
   "outputs": [],
   "source": [
    "# Instantiate components\n",
    "model = ESM3Model()\n",
    "comparator = ProteinComparator()\n",
    "test_set = CASPTestSet()"
   ]
  },
  {
   "cell_type": "code",
   "execution_count": null,
   "id": "7c2b334b",
   "metadata": {},
   "outputs": [],
   "source": [
    "test_set_results = []\n",
    "\n",
    "print(f\"Running through {len(test_set)} samples...\")\n",
    "\n",
    "# Run through all samples in the test set\n",
    "for idx, sample in enumerate(test_set):\n",
    "    try:\n",
    "        original_protein_fasta = sample[\"real_fasta\"].iloc[0][:-4]\n",
    "        real_protein_pdb = sample[\"real_pdb\"].iloc[0]\n",
    "\n",
    "        # Run inference on the original protein FASTA\n",
    "        resultant_protein = model(\n",
    "            ProteinPredictionTask.STRUCTURE_PREDICTION,\n",
    "            protein=original_protein_fasta,\n",
    "            generation_config_kwargs={ \"num_steps\": 1, \"temperature\": 0.0 },\n",
    "            return_type=ProteinPredictionReturnType.DEFAULT,\n",
    "        )\n",
    "        resultant_pdb = resultant_protein.to_pdb_string()\n",
    "\n",
    "        # Compute the optimal alignment and USalign/TMalign scores\n",
    "        resulting_alignment = comparator.compute_score_and_alignment(\n",
    "            resultant_pdb,\n",
    "            real_protein_pdb,\n",
    "        )\n",
    "\n",
    "        # Print and visualize the protein alignment and scores\n",
    "        for alignment_score in resulting_alignment:\n",
    "            print(f\"{alignment_score.method.value}: {alignment_score.final_score}\")\n",
    "        \n",
    "        # Append the current alignment to the results\n",
    "        test_set_results.append((idx, resulting_alignment + [\n",
    "            ProteinAlignment(\n",
    "                method=ProteinComparatorMethod.LDDT,\n",
    "                pdb1=resultant_pdb,\n",
    "                pdb2=None,\n",
    "                superimposed_pdb=None,\n",
    "                score1=resultant_protein.plddt,\n",
    "                score2=None,\n",
    "                final_score=np.average(resultant_protein.plddt),\n",
    "                auxiliary=None,\n",
    "            )\n",
    "        ]))\n",
    "\n",
    "        # Visualize the alignment\n",
    "        comparator.visualize_alignment(resulting_alignment[0])\n",
    "    except Exception as e:\n",
    "        # Skip the sample due to the exception\n",
    "        print(f\"Skipping sample at index {idx} due to `{e}`.\")\n",
    "        test_set_results.append((idx, e))"
   ]
  },
  {
   "cell_type": "code",
   "execution_count": null,
   "id": "c862b0cd",
   "metadata": {},
   "outputs": [],
   "source": [
    "print(test_set_results)"
   ]
  },
  {
   "cell_type": "code",
   "execution_count": null,
   "id": "b9c2013b",
   "metadata": {},
   "outputs": [],
   "source": [
    "EXTRA_FIELDS = [\"subset\", \"target_id\", \"pdb_id\"]\n",
    "\n",
    "data =  { field_name: [] for field_name in EXTRA_FIELDS }\n",
    "data.update({\n",
    "    \"US-Align\": [],\n",
    "    \"avg_pLDDT\": [],\n",
    "})\n",
    "\n",
    "for i, sample in enumerate(test_set):\n",
    "    results = list(filter(lambda res: i == res[0], test_set_results))\n",
    "    if len(results) > 0:\n",
    "        _, alignment_list_or_err = results[0]\n",
    "        if isinstance(alignment_list_or_err, Exception):\n",
    "            continue\n",
    "        us_alignment, plddt_alignment = tuple(alignment_list_or_err)\n",
    "        for field in EXTRA_FIELDS:\n",
    "            data[field] = data[field] + [sample[field].iloc[0]]\n",
    "        data[\"US-Align\"] = data[\"US-Align\"] + [us_alignment.final_score]\n",
    "        data[\"avg_pLDDT\"] = data[\"avg_pLDDT\"] + [plddt_alignment.final_score]\n",
    "\n",
    "pd.DataFrame(data).to_csv(\"casp_structure_prediction_results.csv\", index=False)"
   ]
  }
 ],
 "metadata": {
  "kernelspec": {
   "display_name": ".venv",
   "language": "python",
   "name": "python3"
  },
  "language_info": {
   "codemirror_mode": {
    "name": "ipython",
    "version": 3
   },
   "file_extension": ".py",
   "mimetype": "text/x-python",
   "name": "python",
   "nbconvert_exporter": "python",
   "pygments_lexer": "ipython3",
   "version": "3.10.16"
  }
 },
 "nbformat": 4,
 "nbformat_minor": 5
}
